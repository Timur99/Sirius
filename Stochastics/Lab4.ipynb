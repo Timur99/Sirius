{
  "nbformat": 4,
  "nbformat_minor": 0,
  "metadata": {
    "colab": {
      "provenance": []
    },
    "kernelspec": {
      "name": "python3",
      "display_name": "Python 3"
    },
    "language_info": {
      "name": "python"
    }
  },
  "cells": [
    {
      "cell_type": "code",
      "source": [
        "import numpy as np\n",
        "import matplotlib.pyplot as plt\n",
        "from math import sqrt, exp\n",
        "import random"
      ],
      "metadata": {
        "id": "RUdmz2ENo-lH"
      },
      "execution_count": 2,
      "outputs": []
    },
    {
      "cell_type": "markdown",
      "source": [
        "A1"
      ],
      "metadata": {
        "id": "IYvt6OKCo_RD"
      }
    },
    {
      "cell_type": "code",
      "source": [
        "#A1\n",
        "def beta_1(X, N):\n",
        "  sum1 = 0 \n",
        "  sum2 = 0 \n",
        "  sum3 = 0 \n",
        "  sum4 = 0 \n",
        " \n",
        "  for i in range(1,N):\n",
        "    sum1 += X[i]*X[i-1] \n",
        "    sum2 += X[i] \n",
        "    sum3 += X[i-1] \n",
        "    sum4 += X[i-1] ** 2 \n",
        "  beta1 = (N**(-1) * sum1 - N**(-2)*sum2*sum3) / (N**(-1) * sum4 - N**(-2)* sum3 ** 2) \n",
        "  return(beta1)\n",
        "\n",
        "\n",
        "\n",
        "def beta_2(X, N, beta1):\n",
        "  sum5 = 0 \n",
        "  for i in range(1, N): \n",
        "    sum5+=X[i]- beta1*X[i-1] \n",
        "  beta2 = (N**(-1) * sum5)/ (1 - beta1) \n",
        "  return(beta2)\n",
        "\n",
        "def beta_3(X, N, beta1, beta2):\n",
        "  sum6 = 0 \n",
        "  for i in range(1, N): \n",
        "    sum6+=(X[i] - beta1*X[i-1] - beta2*(1-beta1))**2 \n",
        "  beta3=N**(-1)*sum6 \n",
        "  return(beta3)"
      ],
      "metadata": {
        "id": "_JyvyrBhUIuO"
      },
      "execution_count": 3,
      "outputs": []
    },
    {
      "cell_type": "code",
      "source": [
        "def theta_2(X, delta, n):\n",
        "  sum_2 = 0\n",
        "  sum_3 = 0\n",
        "  for i in range(1,N):\n",
        "    sum_2 += X[i]*X[i-1] \n",
        "    sum_3 += X[i-1] ** 2\n",
        "  theta_22 = -np.log(sum_2 / sum_3) / delta\n",
        "  return theta_22\n",
        "\n",
        "def theta_3(X, delta, n, t_2_n):\n",
        "  sum_4 = 0\n",
        "  for i in range(1,N):\n",
        "    sum_4 += (X[i] - X[i - 1] * np.exp(-delta * t_2_n)) ** 2\n",
        "  theta_33 = (2 * t_2_n) / (n * (1 - np.exp(-2 * delta * t_2_n))) * sum_4\n",
        "  return theta_33"
      ],
      "metadata": {
        "id": "AZbdAw5Q-b-N"
      },
      "execution_count": 4,
      "outputs": []
    },
    {
      "cell_type": "code",
      "source": [
        "def OU(X, kappa, alpha, sigma, dW, dt):\n",
        "    dX = kappa * (alpha - X) * dt + sigma * dW\n",
        "    return dX\n",
        "\n",
        "\n",
        "kappa = 3\n",
        "alpha = 1\n",
        "sigma = 2\n",
        "print(kappa, alpha, sigma)\n",
        "N = 1000\n",
        "delta = 1/N\n",
        "x = 10\n",
        "n = 1000\n",
        "theta_ = np.zeros((n, 3))\n",
        "\n",
        "for j in range(n):\n",
        "  dW = np.random.normal(0, np.sqrt(1/N), N)\n",
        "  X = np.zeros(N)\n",
        "  X[0] = x\n",
        " \n",
        "  for i in range(1,N):\n",
        "    X[i] = X[i-1] + OU(X[i-1], kappa, alpha, sigma, dW[i], 1/N)\n",
        "  \n",
        "\n",
        "  beta1 = beta_1(X, N)\n",
        "  beta2 = beta_2(X, N, beta1)\n",
        "  beta3 = beta_3(X, N, beta1, beta2)\n",
        " \n",
        "\n",
        "  kappa2 = (-1 / delta)*np.log(beta1) \n",
        "  alpha2 = beta2 \n",
        "  sigma2 = np.sqrt(2 * kappa2 * beta3 / (1 - beta1 ** 2))\n",
        "\n",
        "  theta_[j] = kappa2, alpha2, sigma2\n",
        "\n",
        "  #theta1 = kappa*alpha \n",
        "  #theta2 = kappa \n",
        "  #theta3 = sigma \n",
        "\n",
        "\n",
        "print(np.mean(theta_, axis=0))\n",
        "\n",
        "\n"
      ],
      "metadata": {
        "colab": {
          "base_uri": "https://localhost:8080/"
        },
        "id": "_E2C-Zg8rHwe",
        "outputId": "fe14eb64-bda1-4cf4-c95e-0e40725099df"
      },
      "execution_count": 30,
      "outputs": [
        {
          "output_type": "stream",
          "name": "stdout",
          "text": [
            "3 1 2\n",
            "[3.26093708 0.95518411 1.99926287]\n"
          ]
        }
      ]
    },
    {
      "cell_type": "code",
      "source": [
        "#A2\n",
        "\n",
        "kappa = 0\n",
        "alpha = 3\n",
        "sigma = 2\n",
        "N = 1000\n",
        "delta = 1/N\n",
        "\n",
        "dW = np.random.normal(0, np.sqrt(1/N), N)\n",
        "X = np.zeros(N)\n",
        "X[0] = 10\n",
        " \n",
        "for i in range(1,N):\n",
        "  X[i] = X[i-1] + OU(X[i-1], kappa, alpha, sigma, dW[i], 1/N)\n",
        "  \n",
        "\n",
        "\n",
        "t2 = theta_2(X, delta, N)\n",
        "t3 = np.sqrt(theta_3(X, delta, N, t2))\n",
        "print(t2)\n",
        "print(t3)\n",
        "\n"
      ],
      "metadata": {
        "colab": {
          "base_uri": "https://localhost:8080/"
        },
        "id": "NlYpbLeU9qBE",
        "outputId": "33e7c61c-e42b-4ac7-efc5-6607058739bf"
      },
      "execution_count": 40,
      "outputs": [
        {
          "output_type": "stream",
          "name": "stdout",
          "text": [
            "0.2977353901897335\n",
            "1.9910023405382167\n"
          ]
        }
      ]
    }
  ]
}